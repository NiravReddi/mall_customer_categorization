{
  "nbformat": 4,
  "nbformat_minor": 0,
  "metadata": {
    "colab": {
      "name": "HCcluster.ipynb",
      "provenance": [],
      "toc_visible": true,
      "authorship_tag": "ABX9TyMduZBLaBFug2AFQ3t0ppUJ",
      "include_colab_link": true
    },
    "kernelspec": {
      "name": "python3",
      "display_name": "Python 3"
    }
  },
  "cells": [
    {
      "cell_type": "markdown",
      "metadata": {
        "id": "view-in-github",
        "colab_type": "text"
      },
      "source": [
        "<a href=\"https://colab.research.google.com/github/NiravReddi/mall_customer_categorization/blob/master/HCcluster.ipynb\" target=\"_parent\"><img src=\"https://colab.research.google.com/assets/colab-badge.svg\" alt=\"Open In Colab\"/></a>"
      ]
    },
    {
      "cell_type": "markdown",
      "metadata": {
        "id": "izFSFT6InMM3",
        "colab_type": "text"
      },
      "source": [
        "# importing library"
      ]
    },
    {
      "cell_type": "code",
      "metadata": {
        "colab_type": "code",
        "id": "6EoWwDrCnjfL",
        "colab": {}
      },
      "source": [
        "import pandas as pd\n",
        "import matplotlib.pyplot as plt\n",
        "import numpy as np"
      ],
      "execution_count": 0,
      "outputs": []
    },
    {
      "cell_type": "markdown",
      "metadata": {
        "id": "WmEoGVyanywF",
        "colab_type": "text"
      },
      "source": [
        "# importing dataset"
      ]
    },
    {
      "cell_type": "code",
      "metadata": {
        "id": "irS_tvz7n9C3",
        "colab_type": "code",
        "colab": {}
      },
      "source": [
        "dataset = pd.read_csv(\"Mall_Customers.csv\")\n",
        "x = dataset.iloc[:,[3,4]].values"
      ],
      "execution_count": 0,
      "outputs": []
    },
    {
      "cell_type": "code",
      "metadata": {
        "id": "wdccvmjep1pD",
        "colab_type": "code",
        "colab": {}
      },
      "source": [
        "print(x)"
      ],
      "execution_count": 0,
      "outputs": []
    },
    {
      "cell_type": "markdown",
      "metadata": {
        "id": "vMRy6Hh5EWoP",
        "colab_type": "text"
      },
      "source": [
        "# Denogram for optimal number of clusters"
      ]
    },
    {
      "cell_type": "code",
      "metadata": {
        "id": "PYJw1jWTEiK7",
        "colab_type": "code",
        "colab": {
          "base_uri": "https://localhost:8080/",
          "height": 295
        },
        "outputId": "ca989880-7767-43ec-8d35-4a2640ef8545"
      },
      "source": [
        "import scipy.cluster.hierarchy as sch\n",
        "dendrogram = sch.dendrogram(sch.linkage(x, method = 'ward'))\n",
        "plt.title(\"Dendrogram\")\n",
        "plt.ylabel(\"Ecludian distances\")\n",
        "plt.xlabel(\"points\")\n",
        "plt.show()"
      ],
      "execution_count": 9,
      "outputs": [
        {
          "output_type": "display_data",
          "data": {
            "image/png": "[encoded data removed]",
            "text/plain": [
              "<Figure size 432x288 with 1 Axes>"
            ]
          },
          "metadata": {
            "tags": [],
            "needs_background": "light"
          }
        }
      ]
    },
    {
      "cell_type": "markdown",
      "metadata": {
        "id": "IgDgE2s-Jlqh",
        "colab_type": "text"
      },
      "source": [
        "# training hierarcial cluster on dataset"
      ]
    },
    {
      "cell_type": "code",
      "metadata": {
        "id": "yQIChHESKUwM",
        "colab_type": "code",
        "colab": {}
      },
      "source": [
        "from sklearn.cluster import AgglomerativeClustering\n",
        "hc = AgglomerativeClustering(n_clusters = 5, affinity = 'euclidean',linkage = 'ward')\n",
        "y_hc = hc.fit_predict(x)"
      ],
      "execution_count": 0,
      "outputs": []
    },
    {
      "cell_type": "code",
      "metadata": {
        "id": "PrwFl34DL-Ci",
        "colab_type": "code",
        "colab": {
          "base_uri": "https://localhost:8080/",
          "height": 118
        },
        "outputId": "cf27a48e-b558-4800-acf0-18c10064868d"
      },
      "source": [
        "print(y_hc)"
      ],
      "execution_count": 12,
      "outputs": [
        {
          "output_type": "stream",
          "text": [
            "[4 3 4 3 4 3 4 3 4 3 4 3 4 3 4 3 4 3 4 3 4 3 4 3 4 3 4 3 4 3 4 3 4 3 4 3 4\n",
            " 3 4 3 4 3 4 1 4 1 1 1 1 1 1 1 1 1 1 1 1 1 1 1 1 1 1 1 1 1 1 1 1 1 1 1 1 1\n",
            " 1 1 1 1 1 1 1 1 1 1 1 1 1 1 1 1 1 1 1 1 1 1 1 1 1 1 1 1 1 1 1 1 1 1 1 1 1\n",
            " 1 1 1 1 1 1 1 1 1 1 1 1 2 1 2 1 2 0 2 0 2 1 2 0 2 0 2 0 2 0 2 1 2 0 2 1 2\n",
            " 0 2 0 2 0 2 0 2 0 2 0 2 1 2 0 2 0 2 0 2 0 2 0 2 0 2 0 2 0 2 0 2 0 2 0 2 0\n",
            " 2 0 2 0 2 0 2 0 2 0 2 0 2 0 2]\n"
          ],
          "name": "stdout"
        }
      ]
    },
    {
      "cell_type": "markdown",
      "metadata": {
        "id": "K75g0FKuMQGM",
        "colab_type": "text"
      },
      "source": [
        "# Visualization of result"
      ]
    },
    {
      "cell_type": "code",
      "metadata": {
        "id": "UNv35Q-CMYBF",
        "colab_type": "code",
        "colab": {
          "base_uri": "https://localhost:8080/",
          "height": 298
        },
        "outputId": "d571491f-25f1-4065-d0bd-20a8d5ade6d7"
      },
      "source": [
        "plt.scatter(x[y_hc == 0,0],x[y_hc == 0,1],s=100,c='red')\n",
        "plt.scatter(x[y_hc == 1,0],x[y_hc == 1,1],s=100,c='blue')\n",
        "plt.scatter(x[y_hc == 2,0],x[y_hc == 2,1],s=100,c='green')\n",
        "plt.scatter(x[y_hc == 3,0],x[y_hc == 3,1],s=100,c='cyan')\n",
        "plt.scatter(x[y_hc == 4,0],x[y_hc == 4,1],s=100,c='magenta')\n",
        "plt.title(\"Clusters\")\n",
        "plt.legend()\n",
        "plt.show()"
      ],
      "execution_count": 14,
      "outputs": [
        {
          "output_type": "stream",
          "text": [
            "No handles with labels found to put in legend.\n"
          ],
          "name": "stderr"
        },
        {
          "output_type": "display_data",
          "data": {
            "image/png": "[encoded data removed]",
            "text/plain": [
              "<Figure size 432x288 with 1 Axes>"
            ]
          },
          "metadata": {
            "tags": [],
            "needs_background": "light"
          }
        }
      ]
    }
  ]
}